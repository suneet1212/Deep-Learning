{
  "nbformat": 4,
  "nbformat_minor": 0,
  "metadata": {
    "colab": {
      "name": "Untitled3.ipynb",
      "provenance": [],
      "collapsed_sections": [],
      "mount_file_id": "1L_WXVl0ZZYFlIdjTFGYgA5gnBx2yl9Fu",
      "authorship_tag": "ABX9TyPzdwnXCNGA+yX/YdQ+WdE4",
      "include_colab_link": true
    },
    "kernelspec": {
      "name": "python3",
      "display_name": "Python 3"
    },
    "accelerator": "TPU"
  },
  "cells": [
    {
      "cell_type": "markdown",
      "metadata": {
        "id": "view-in-github",
        "colab_type": "text"
      },
      "source": [
        "<a href=\"https://colab.research.google.com/github/suneet1212/Deep-Learning/blob/master/Untitled3.ipynb\" target=\"_parent\"><img src=\"https://colab.research.google.com/assets/colab-badge.svg\" alt=\"Open In Colab\"/></a>"
      ]
    },
    {
      "cell_type": "code",
      "metadata": {
        "id": "1W1myhLiVACW"
      },
      "source": [
        "import cv2\n",
        "import imutils\n",
        "import os"
      ],
      "execution_count": null,
      "outputs": []
    },
    {
      "cell_type": "code",
      "metadata": {
        "colab": {
          "base_uri": "https://localhost:8080/"
        },
        "id": "ODPjrGvMznRg",
        "outputId": "71798b1f-9dbf-43df-95f7-ef3310f31052"
      },
      "source": [
        "image_arr = [[144959, 145503, 145550, 145622],\n",
        "             [221131, 221207, 221430, 221456],\n",
        "             [222319, 222328, 222412, 235507],\n",
        "             [222809, 222851, 222946, 75111],\n",
        "             [223357, 223422, 223448, 223509],\n",
        "             [223726, 223745, 223832, 224014],\n",
        "             [224252, 224259, 224342, 224401],\n",
        "             [224625, 224645, 224712, 224826],\n",
        "             [225051, 225252, 225343, 225422],\n",
        "             [225739, 225804, 230350, 230445]]\n",
        "for label in range(10):\n",
        "  print(label)\n",
        "  date = 0\n",
        "  if label == 0:\n",
        "    date = 20210311\n",
        "  else:\n",
        "    date = 20210312 \n",
        "  dir = \"/content/drive/MyDrive/Finger_Signs_Recognition/Test/\"\n",
        "  dir2 = \"/content/drive/MyDrive/FingerSignRecognition/Test/\"\n",
        "  for j in range(4):\n",
        "    img_no = image_arr[label][j];\n",
        "    if (label == 3) and (j == 3):\n",
        "      date = 20210313\n",
        "      img_no = str(0)+str(img_no)\n",
        "    for i in range(1,31):\n",
        "      if i >= 10:\n",
        "        path = \"images_\" + str(label) + \"/\" + str(date) + \"_\" + str(img_no) + \"_0\" + str(i)\n",
        "        if (label == 2) and (j == 0):\n",
        "          path = path + \".jpg\"\n",
        "        else:\n",
        "          path = path  + \"_saved.jpg\"\n",
        "        if os.path.isfile(dir+path):\n",
        "          img = cv2.imread(dir+path)\n",
        "          img = imutils.resize(img,512)\n",
        "          cv2.imwrite(dir2+path, img)\n",
        "        else:\n",
        "          continue\n",
        "\n",
        "      else:\n",
        "        path = \"images_\" + str(label) + \"/\" + str(date) + \"_\" + str(img_no) + \"_00\" + str(i)\n",
        "        if (label == 2) and (j == 0):\n",
        "          path = path + \".jpg\"\n",
        "        else:\n",
        "          path = path  + \"_saved.jpg\"\n",
        "        if os.path.isfile(dir+path):\n",
        "          img = cv2.imread(dir+path)\n",
        "          img = imutils.resize(img,512)\n",
        "          cv2.imwrite(dir2+path, img)\n",
        "        else:\n",
        "          continue"
      ],
      "execution_count": 5,
      "outputs": [
        {
          "output_type": "stream",
          "text": [
            "0\n",
            "1\n",
            "2\n",
            "3\n",
            "4\n",
            "5\n",
            "6\n",
            "7\n",
            "8\n",
            "9\n"
          ],
          "name": "stdout"
        }
      ]
    },
    {
      "cell_type": "code",
      "metadata": {
        "id": "0DlSphkL7jrm"
      },
      "source": [
        ""
      ],
      "execution_count": null,
      "outputs": []
    }
  ]
}